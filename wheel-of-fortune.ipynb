{
 "cells": [
  {
   "cell_type": "code",
   "execution_count": 7,
   "metadata": {},
   "outputs": [
    {
     "name": "stdout",
     "output_type": "stream",
     "text": [
      "24\n"
     ]
    }
   ],
   "source": [
    "#Set up\n",
    "\n",
    "player_turn = 0\n",
    "p1_bank = 0\n",
    "p2_bank = 0\n",
    "p3_bank = 0\n",
    "round_number = 1\n",
    "\n",
    "wheel = [\"BANKRUPT\", \"Lose a Turn\", \"$100\", \"$100\", \"$100\", \"$100\", \"$100\", \"$150\", \"$150\", \"$150\", \"$150\", \n",
    "\"$200\", \"$200\", \"$200\", \"$200\", \"$300\", \"$300\", \"$300\", \"$450\", \"$450\", \"$600\", \"$600\", \"$700\", \"$900\"]"
   ]
  }
 ],
 "metadata": {
  "interpreter": {
   "hash": "86d1a67b0d56e74f294bd0a89711776805270fb9ebddae761db44ecf66e3b529"
  },
  "kernelspec": {
   "display_name": "Python 3.9.7 64-bit ('base': conda)",
   "language": "python",
   "name": "python3"
  },
  "language_info": {
   "codemirror_mode": {
    "name": "ipython",
    "version": 3
   },
   "file_extension": ".py",
   "mimetype": "text/x-python",
   "name": "python",
   "nbconvert_exporter": "python",
   "pygments_lexer": "ipython3",
   "version": "3.9.7"
  },
  "orig_nbformat": 4
 },
 "nbformat": 4,
 "nbformat_minor": 2
}
