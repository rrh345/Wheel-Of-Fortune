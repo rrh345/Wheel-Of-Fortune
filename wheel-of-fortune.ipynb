{
 "cells": [
  {
   "cell_type": "code",
   "execution_count": 1,
   "metadata": {},
   "outputs": [
    {
     "name": "stdout",
     "output_type": "stream",
     "text": [
      "Welcome to Wheel of Fortune!\n",
      "Round 1\n"
     ]
    }
   ],
   "source": [
    "#Set up\n",
    "\n",
    "player_turn = 0\n",
    "p1_bank = 0\n",
    "p2_bank = 0\n",
    "p3_bank = 0\n",
    "round = 1\n",
    "\n",
    "wheel = [\"BANKRUPT\", \"Lose a Turn\", \"100\", \"100\", \"100\", \"100\", \"100\", \"150\", \"150\", \"150\", \"150\", \n",
    "\"200\", \"200\", \"200\", \"200\", \"300\", \"300\", \"300\", \"450\", \"450\", \"600\", \"600\", \"700\", \"900\"]\n",
    "\n",
    "#using word dictionary file \n",
    "import random\n",
    "f = open(\"words_alpha.txt\")\n",
    "word_list = f.read().split()\n",
    "f.close()\n",
    "\n",
    "#Game Start\n",
    "print(\"Welcome to Wheel of Fortune!\")\n",
    "\n",
    "if round in range(1,2):\n",
    "    print(f\"Round {round}\")\n",
    "    \n",
    "\n"
   ]
  },
  {
   "cell_type": "code",
   "execution_count": 26,
   "metadata": {},
   "outputs": [
    {
     "name": "stdout",
     "output_type": "stream",
     "text": [
      "Round 1\n",
      "Player 2, please spin the wheel.\n",
      "You have landed on 100. Your bank\n"
     ]
    }
   ],
   "source": [
    "def bank_reset ():\n",
    "    if player_turn == 1:\n",
    "        p1_bank == 0\n",
    "    elif player_turn == 2:\n",
    "        p2_bank == 0\n",
    "    elif player_turn == 3:\n",
    "        p3_bank == 0\n",
    "    else:\n",
    "        print(\"Error\")\n",
    "\n",
    "def bank_add ():\n",
    "    if player_turn == 1:\n",
    "        p1_bank += int(wheel_spin)\n",
    "    elif player_turn == 2:\n",
    "        p2_bank += int(wheel_spin)\n",
    "    elif player_turn == 3:\n",
    "        p3_bank += int(wheel_spin)\n",
    "    else:\n",
    "        print(\"Error\")\n",
    "\n",
    "def turn_over ():\n",
    "    if player_turn <3:\n",
    "        player_turn += 1\n",
    "    else:\n",
    "        player_turn == 1\n",
    "\n",
    "if round in range(1,2):\n",
    "    print(f\"Round {round}\")\n",
    "    word = random.choice(word_list)\n",
    "    word_reveal = [\"_\"] * len(word)\n",
    "    print(f\"Player {player_turn}, please spin the wheel.\")\n",
    "    wheel_spin = random.choice(wheel)\n",
    "    if wheel_spin == \"BANKRUPT\":\n",
    "        print(\"You have landed on BANKRUPT. You lose all your money and your turn is over.\")\n",
    "        bank_reset\n",
    "        turn_over\n",
    "    elif wheel_spin == \"Lose a Turn\":\n",
    "        print(\"You have landed on Lose a Turn. Your turn is over.\")\n",
    "        turn_over\n",
    "    else:\n",
    "        bank_add\n",
    "        print(f\"You have landed on ${wheel_spin}. Your bank\")\n",
    "        "
   ]
  },
  {
   "cell_type": "code",
   "execution_count": 6,
   "metadata": {},
   "outputs": [
    {
     "name": "stdout",
     "output_type": "stream",
     "text": [
      "Round 1\n",
      "sandaliform\n",
      "Player 1, please spin the wheel.\n",
      "You have landed on $600. Your bank now has $600\n",
      "Guess a consonant: p\n",
      "p is not in the word.\n",
      "2\n",
      "Player 2, please spin the wheel.\n",
      "You have landed on $200. Your bank now has $800\n",
      "Guess a consonant: \n",
      " is not a consonant. Please try again.\n",
      "You have landed on $200. Your bank now has $1000\n"
     ]
    },
    {
     "ename": "KeyboardInterrupt",
     "evalue": "Interrupted by user",
     "output_type": "error",
     "traceback": [
      "\u001b[1;31m---------------------------------------------------------------------------\u001b[0m",
      "\u001b[1;31mKeyboardInterrupt\u001b[0m                         Traceback (most recent call last)",
      "\u001b[1;32m~\\AppData\\Local\\Temp/ipykernel_20516/4103843333.py\u001b[0m in \u001b[0;36m<module>\u001b[1;34m\u001b[0m\n\u001b[0;32m     38\u001b[0m                 \u001b[0mp1_bank\u001b[0m \u001b[1;33m+=\u001b[0m \u001b[0mint\u001b[0m\u001b[1;33m(\u001b[0m\u001b[0mwheel_spin\u001b[0m\u001b[1;33m)\u001b[0m\u001b[1;33m\u001b[0m\u001b[1;33m\u001b[0m\u001b[0m\n\u001b[0;32m     39\u001b[0m                 \u001b[0mprint\u001b[0m\u001b[1;33m(\u001b[0m\u001b[1;34mf\"You have landed on ${wheel_spin}. Your bank now has ${p1_bank}\"\u001b[0m\u001b[1;33m)\u001b[0m\u001b[1;33m\u001b[0m\u001b[1;33m\u001b[0m\u001b[0m\n\u001b[1;32m---> 40\u001b[1;33m                 \u001b[0mguess_cons\u001b[0m \u001b[1;33m=\u001b[0m \u001b[0mstr\u001b[0m\u001b[1;33m(\u001b[0m\u001b[0minput\u001b[0m\u001b[1;33m(\u001b[0m\u001b[1;34m\"Guess a consontant: \"\u001b[0m\u001b[1;33m)\u001b[0m\u001b[1;33m)\u001b[0m\u001b[1;33m\u001b[0m\u001b[1;33m\u001b[0m\u001b[0m\n\u001b[0m\u001b[0;32m     41\u001b[0m                 \u001b[0mprint\u001b[0m\u001b[1;33m(\u001b[0m\u001b[1;34mf\"Guess a consonant: {guess_cons}\"\u001b[0m\u001b[1;33m)\u001b[0m\u001b[1;33m\u001b[0m\u001b[1;33m\u001b[0m\u001b[0m\n\u001b[0;32m     42\u001b[0m                 \u001b[1;32mif\u001b[0m \u001b[0mlen\u001b[0m\u001b[1;33m(\u001b[0m\u001b[0mguess_cons\u001b[0m\u001b[1;33m)\u001b[0m \u001b[1;33m==\u001b[0m \u001b[1;36m1\u001b[0m \u001b[1;32mand\u001b[0m \u001b[0mguess_cons\u001b[0m \u001b[1;32mnot\u001b[0m \u001b[1;32min\u001b[0m \u001b[0mvowels\u001b[0m\u001b[1;33m:\u001b[0m\u001b[1;33m\u001b[0m\u001b[1;33m\u001b[0m\u001b[0m\n",
      "\u001b[1;32m~\\anaconda3\\lib\\site-packages\\ipykernel\\kernelbase.py\u001b[0m in \u001b[0;36mraw_input\u001b[1;34m(self, prompt)\u001b[0m\n\u001b[0;32m   1004\u001b[0m                 \u001b[1;34m\"raw_input was called, but this frontend does not support input requests.\"\u001b[0m\u001b[1;33m\u001b[0m\u001b[1;33m\u001b[0m\u001b[0m\n\u001b[0;32m   1005\u001b[0m             )\n\u001b[1;32m-> 1006\u001b[1;33m         return self._input_request(\n\u001b[0m\u001b[0;32m   1007\u001b[0m             \u001b[0mstr\u001b[0m\u001b[1;33m(\u001b[0m\u001b[0mprompt\u001b[0m\u001b[1;33m)\u001b[0m\u001b[1;33m,\u001b[0m\u001b[1;33m\u001b[0m\u001b[1;33m\u001b[0m\u001b[0m\n\u001b[0;32m   1008\u001b[0m             \u001b[0mself\u001b[0m\u001b[1;33m.\u001b[0m\u001b[0m_parent_ident\u001b[0m\u001b[1;33m[\u001b[0m\u001b[1;34m\"shell\"\u001b[0m\u001b[1;33m]\u001b[0m\u001b[1;33m,\u001b[0m\u001b[1;33m\u001b[0m\u001b[1;33m\u001b[0m\u001b[0m\n",
      "\u001b[1;32m~\\anaconda3\\lib\\site-packages\\ipykernel\\kernelbase.py\u001b[0m in \u001b[0;36m_input_request\u001b[1;34m(self, prompt, ident, parent, password)\u001b[0m\n\u001b[0;32m   1049\u001b[0m             \u001b[1;32mexcept\u001b[0m \u001b[0mKeyboardInterrupt\u001b[0m\u001b[1;33m:\u001b[0m\u001b[1;33m\u001b[0m\u001b[1;33m\u001b[0m\u001b[0m\n\u001b[0;32m   1050\u001b[0m                 \u001b[1;31m# re-raise KeyboardInterrupt, to truncate traceback\u001b[0m\u001b[1;33m\u001b[0m\u001b[1;33m\u001b[0m\u001b[0m\n\u001b[1;32m-> 1051\u001b[1;33m                 \u001b[1;32mraise\u001b[0m \u001b[0mKeyboardInterrupt\u001b[0m\u001b[1;33m(\u001b[0m\u001b[1;34m\"Interrupted by user\"\u001b[0m\u001b[1;33m)\u001b[0m \u001b[1;32mfrom\u001b[0m \u001b[1;32mNone\u001b[0m\u001b[1;33m\u001b[0m\u001b[1;33m\u001b[0m\u001b[0m\n\u001b[0m\u001b[0;32m   1052\u001b[0m             \u001b[1;32mexcept\u001b[0m \u001b[0mException\u001b[0m\u001b[1;33m:\u001b[0m\u001b[1;33m\u001b[0m\u001b[1;33m\u001b[0m\u001b[0m\n\u001b[0;32m   1053\u001b[0m                 \u001b[0mself\u001b[0m\u001b[1;33m.\u001b[0m\u001b[0mlog\u001b[0m\u001b[1;33m.\u001b[0m\u001b[0mwarning\u001b[0m\u001b[1;33m(\u001b[0m\u001b[1;34m\"Invalid Message:\"\u001b[0m\u001b[1;33m,\u001b[0m \u001b[0mexc_info\u001b[0m\u001b[1;33m=\u001b[0m\u001b[1;32mTrue\u001b[0m\u001b[1;33m)\u001b[0m\u001b[1;33m\u001b[0m\u001b[1;33m\u001b[0m\u001b[0m\n",
      "\u001b[1;31mKeyboardInterrupt\u001b[0m: Interrupted by user"
     ]
    }
   ],
   "source": [
    "player_turn = 1\n",
    "p1_bank = 0\n",
    "p2_bank = 0\n",
    "p3_bank = 0\n",
    "\n",
    "vowels = [\"a\", \"e\", \"i\", \"o\", \"u\"]\n",
    "option = \"consonant\"\n",
    "i = 0\n",
    "\n",
    "def turn_over():\n",
    "    global player_turn\n",
    "    if player_turn < 3:\n",
    "        player_turn += 1\n",
    "    else:\n",
    "        player_turn = 1\n",
    "    return player_turn\n",
    "\n",
    "if round in range(1,2):\n",
    "    print(f\"Round {round}\")\n",
    "    word = random.choice(word_list)\n",
    "    print(word)\n",
    "    word_reveal = [\"_\"] * len(word)\n",
    "    while option == \"consonant\":\n",
    "        print(f\"Player {player_turn}, please spin the wheel.\")\n",
    "        wheel_spin = random.choice(wheel)\n",
    "        while i < (i+1):\n",
    "            if wheel_spin == \"BANKRUPT\":\n",
    "                print(\"You have landed on BANKRUPT. You lose all your money and your turn is over.\")\n",
    "                p1_bank == 0\n",
    "                turn_over()\n",
    "                break\n",
    "            elif wheel_spin == \"Lose a Turn\":\n",
    "                print(\"You have landed on Lose a Turn. Your turn is over.\")\n",
    "                turn_over()\n",
    "                break\n",
    "            else:\n",
    "                p1_bank += int(wheel_spin)\n",
    "                print(f\"You have landed on ${wheel_spin}. Your bank now has ${p1_bank}\")\n",
    "                guess_cons = str(input(\"Guess a consontant: \"))\n",
    "                print(f\"Guess a consonant: {guess_cons}\")\n",
    "                if len(guess_cons) == 1 and guess_cons not in vowels:\n",
    "                    if word.find(guess_cons) != -1:\n",
    "                        num_of_cons = 0\n",
    "                        for i in range(0,len(word)):\n",
    "                            if word[i] == guess_cons:\n",
    "                                word_reveal[i] = guess_cons\n",
    "                                num_of_cons +=1\n",
    "                        p1_bank += (int(wheel_spin)*num_of_cons)\n",
    "                        print(f\"Congratulations. That consonant appears in the word {num_of_cons} times. Your bank now has ${p1_bank}.\")\n",
    "                        print(word_reveal)\n",
    "                        print(\"Spin the wheel, buy a vowel, or guess the word?\")\n",
    "                        option = str(input('Enter \"spin\", \"vowel\", or \"word\"'))\n",
    "                        if option == \"spin\":\n",
    "                            continue\n",
    "                    else:\n",
    "                        print(f\"{guess_cons} is not in the word.\")\n",
    "                        turn_over()\n",
    "                        break\n",
    "                else:\n",
    "                    print(f\"{guess_cons} is not a consonant. Please try again.\")\n",
    "            "
   ]
  }
 ],
 "metadata": {
  "interpreter": {
   "hash": "86d1a67b0d56e74f294bd0a89711776805270fb9ebddae761db44ecf66e3b529"
  },
  "kernelspec": {
   "display_name": "Python 3.9.7 64-bit ('base': conda)",
   "language": "python",
   "name": "python3"
  },
  "language_info": {
   "codemirror_mode": {
    "name": "ipython",
    "version": 3
   },
   "file_extension": ".py",
   "mimetype": "text/x-python",
   "name": "python",
   "nbconvert_exporter": "python",
   "pygments_lexer": "ipython3",
   "version": "3.9.7"
  },
  "orig_nbformat": 4
 },
 "nbformat": 4,
 "nbformat_minor": 2
}
