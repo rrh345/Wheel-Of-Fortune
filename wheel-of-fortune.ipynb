{
 "cells": [
  {
   "cell_type": "code",
   "execution_count": 21,
   "metadata": {},
   "outputs": [
    {
     "name": "stdout",
     "output_type": "stream",
     "text": [
      "Welcome to Wheel of Fortune!\n",
      "Round 1\n"
     ]
    }
   ],
   "source": [
    "#Set up\n",
    "\n",
    "player_turn = 0\n",
    "p1_bank = 0\n",
    "p2_bank = 0\n",
    "p3_bank = 0\n",
    "round = 1\n",
    "\n",
    "wheel = [\"BANKRUPT\", \"Lose a Turn\", \"100\", \"100\", \"100\", \"100\", \"100\", \"150\", \"150\", \"150\", \"150\", \n",
    "\"200\", \"200\", \"200\", \"200\", \"300\", \"300\", \"300\", \"450\", \"450\", \"600\", \"600\", \"700\", \"900\"]\n",
    "\n",
    "#using word dictionary file \n",
    "import random\n",
    "f = open(\"words_alpha.txt\")\n",
    "word_list = f.read().split()\n",
    "f.close()\n",
    "\n",
    "#Game Start\n",
    "print(\"Welcome to Wheel of Fortune!\")\n",
    "\n",
    "if round in range(1,2):\n",
    "    print(f\"Round {round}\")\n",
    "    \n",
    "\n"
   ]
  },
  {
   "cell_type": "code",
   "execution_count": 26,
   "metadata": {},
   "outputs": [
    {
     "name": "stdout",
     "output_type": "stream",
     "text": [
      "Round 1\n",
      "Player 2, please spin the wheel.\n",
      "You have landed on 100. Your bank\n"
     ]
    }
   ],
   "source": [
    "def bank_reset ():\n",
    "    if player_turn == 1:\n",
    "        p1_bank == 0\n",
    "    elif player_turn == 2:\n",
    "        p2_bank == 0\n",
    "    elif player_turn == 3:\n",
    "        p3_bank == 0\n",
    "    else:\n",
    "        print(\"Error\")\n",
    "\n",
    "def bank_add ():\n",
    "    if player_turn == 1:\n",
    "        p1_bank += int(wheel_spin)\n",
    "    elif player_turn == 2:\n",
    "        p2_bank += int(wheel_spin)\n",
    "    elif player_turn == 3:\n",
    "        p3_bank += int(wheel_spin)\n",
    "    else:\n",
    "        print(\"Error\")\n",
    "\n",
    "def turn_over ():\n",
    "    if player_turn <3:\n",
    "        player_turn += 1\n",
    "    else:\n",
    "        player_turn == 1\n",
    "\n",
    "if round in range(1,2):\n",
    "    print(f\"Round {round}\")\n",
    "    word = random.choice(word_list)\n",
    "    word_reveal = [\"_\"] * len(word)\n",
    "    print(f\"Player {player_turn}, please spin the wheel.\")\n",
    "    wheel_spin = random.choice(wheel)\n",
    "    if wheel_spin == \"BANKRUPT\":\n",
    "        print(\"You have landed on BANKRUPT. You lose all your money and your turn is over.\")\n",
    "        bank_reset\n",
    "        turn_over\n",
    "    elif wheel_spin == \"Lose a Turn\":\n",
    "        print(\"You have landed on Lose a Turn. Your turn is over.\")\n",
    "        turn_over\n",
    "    else:\n",
    "        bank_add\n",
    "        print(f\"You have landed on ${wheel_spin}. Your bank\")\n",
    "        "
   ]
  },
  {
   "cell_type": "code",
   "execution_count": 35,
   "metadata": {},
   "outputs": [
    {
     "name": "stdout",
     "output_type": "stream",
     "text": [
      "Round 1\n",
      "Player 2, please spin the wheel.\n",
      "You have landed on $200. Your bank now has $1100\n"
     ]
    }
   ],
   "source": [
    "def turn_over ():\n",
    "    if player_turn <3:\n",
    "        player_turn += 1\n",
    "    else:\n",
    "        player_turn == 1\n",
    "\n",
    "if round in range(1,2):\n",
    "    print(f\"Round {round}\")\n",
    "    word = random.choice(word_list)\n",
    "    word_reveal = [\"_\"] * len(word)\n",
    "    print(f\"Player {player_turn}, please spin the wheel.\")\n",
    "    wheel_spin = random.choice(wheel)\n",
    "    if player_turn == 1:\n",
    "        if wheel_spin == \"BANKRUPT\":\n",
    "            print(\"You have landed on BANKRUPT. You lose all your money and your turn is over.\")\n",
    "            p1_bank == 0\n",
    "            turn_over\n",
    "        elif wheel_spin == \"Lose a Turn\":\n",
    "            print(\"You have landed on Lose a Turn. Your turn is over.\")\n",
    "            turn_over\n",
    "        else:\n",
    "            p1_bank += int(wheel_spin)\n",
    "            print(f\"You have landed on ${wheel_spin}. Your bank now has ${p1_bank}\")\n",
    "    if player_turn == 2:\n",
    "        if wheel_spin == \"BANKRUPT\":\n",
    "            print(\"You have landed on BANKRUPT. You lose all your money and your turn is over.\")\n",
    "            p2_bank == 0\n",
    "            turn_over\n",
    "        elif wheel_spin == \"Lose a Turn\":\n",
    "            print(\"You have landed on Lose a Turn. Your turn is over.\")\n",
    "            turn_over\n",
    "        else:\n",
    "            p2_bank += int(wheel_spin)\n",
    "            print(f\"You have landed on ${wheel_spin}. Your bank now has ${p2_bank}\")\n",
    "    if player_turn == 3:\n",
    "        if wheel_spin == \"BANKRUPT\":\n",
    "            print(\"You have landed on BANKRUPT. You lose all your money and your turn is over.\")\n",
    "            p3_bank == 0\n",
    "            turn_over\n",
    "        elif wheel_spin == \"Lose a Turn\":\n",
    "            print(\"You have landed on Lose a Turn. Your turn is over.\")\n",
    "            turn_over\n",
    "        else:\n",
    "            p3_bank += int(wheel_spin)\n",
    "            print(f\"You have landed on ${wheel_spin}. Your bank now has ${p3_bank}\")\n",
    "        "
   ]
  }
 ],
 "metadata": {
  "interpreter": {
   "hash": "86d1a67b0d56e74f294bd0a89711776805270fb9ebddae761db44ecf66e3b529"
  },
  "kernelspec": {
   "display_name": "Python 3.9.7 64-bit ('base': conda)",
   "language": "python",
   "name": "python3"
  },
  "language_info": {
   "codemirror_mode": {
    "name": "ipython",
    "version": 3
   },
   "file_extension": ".py",
   "mimetype": "text/x-python",
   "name": "python",
   "nbconvert_exporter": "python",
   "pygments_lexer": "ipython3",
   "version": "3.9.7"
  },
  "orig_nbformat": 4
 },
 "nbformat": 4,
 "nbformat_minor": 2
}
